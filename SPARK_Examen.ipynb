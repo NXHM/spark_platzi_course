{
  "nbformat": 4,
  "nbformat_minor": 0,
  "metadata": {
    "colab": {
      "provenance": [],
      "authorship_tag": "ABX9TyOHJaSFV8oYqlTfkz/Nm/kq",
      "include_colab_link": true
    },
    "kernelspec": {
      "name": "python3",
      "display_name": "Python 3"
    },
    "language_info": {
      "name": "python"
    }
  },
  "cells": [
    {
      "cell_type": "markdown",
      "metadata": {
        "id": "view-in-github",
        "colab_type": "text"
      },
      "source": [
        "<a href=\"https://colab.research.google.com/github/NXHM/spark_platzi_exam/blob/main/SPARK_Examen.ipynb\" target=\"_parent\"><img src=\"https://colab.research.google.com/assets/colab-badge.svg\" alt=\"Open In Colab\"/></a>"
      ]
    },
    {
      "cell_type": "code",
      "execution_count": null,
      "metadata": {
        "id": "0IIXLq9Xp7SR"
      },
      "outputs": [],
      "source": [
        "!apt-get install openjdk-8-jdk-headless -qq > /dev/null\n",
        "!wget -q https://dlcdn.apache.org/spark/spark-3.5.1/spark-3.5.1-bin-hadoop3.tgz\n",
        "!tar -xvf spark-3.5.1-bin-hadoop3.tgz\n",
        "!pip install -q findspark\n",
        "!pip install pyspark"
      ]
    },
    {
      "cell_type": "code",
      "source": [
        "!file spark-3.5.1-bin-hadoop3.tgz"
      ],
      "metadata": {
        "id": "Ub6BiK_GqHsJ"
      },
      "execution_count": null,
      "outputs": []
    },
    {
      "cell_type": "code",
      "source": [
        "import os\n",
        "os.environ[\"JAVA_HOME\"] = \"/usr/lib/jvm/java-8-openjdk-amd64\"\n",
        "os.environ[\"SPARK_HOME\"] = \"/content/spark-3.5.1-bin-hadoop3\""
      ],
      "metadata": {
        "id": "D_Gpl-c6qKrB"
      },
      "execution_count": null,
      "outputs": []
    },
    {
      "cell_type": "code",
      "source": [
        "from pyspark import SparkContext #mecanismos que tenemos para interactuar con SPark\n",
        "from pyspark.sql import SparkSession # engloba todos los contextos: mejores formas de configuracion"
      ],
      "metadata": {
        "id": "HM9zB-jlqPiJ"
      },
      "execution_count": null,
      "outputs": []
    },
    {
      "cell_type": "code",
      "source": [
        "from google.colab import auth\n",
        "from googleapiclient.discovery import build\n",
        "from googleapiclient.errors import HttpError\n",
        "from google.colab import drive\n",
        "import pandas as pd\n",
        "drive.mount('/content/drive') # autentica el usuario para Drive\n",
        "\n",
        "auth.authenticate_user() # autentica el usuario para la API\n",
        "\n",
        "# Pregunta el email\n",
        "try:\n",
        "    service = build('oauth2', 'v2', cache_discovery=False) # No me funcionaba con la libreria oauth2\n",
        "    user_info = service.userinfo().get().execute()\n",
        "    user_email = user_info['email']\n",
        "    #print(user_email)\n",
        "except HttpError as e:\n",
        "    print(f'An error occurred: {e}')\n",
        "# Segun el usuario ingresa a su drive y elige el path\n"
      ],
      "metadata": {
        "colab": {
          "base_uri": "https://localhost:8080/"
        },
        "id": "8F4YxlU8Yc4n",
        "outputId": "71b45ced-0e2f-4568-a870-38c1598006bd"
      },
      "execution_count": null,
      "outputs": [
        {
          "output_type": "stream",
          "name": "stdout",
          "text": [
            "Drive already mounted at /content/drive; to attempt to forcibly remount, call drive.mount(\"/content/drive\", force_remount=True).\n"
          ]
        }
      ]
    },
    {
      "cell_type": "code",
      "source": [
        "path = '/content/drive/MyDrive/EstudiosAparte/Platzi/SPARK/'\n"
      ],
      "metadata": {
        "id": "b15EcSrRzETx"
      },
      "execution_count": null,
      "outputs": []
    },
    {
      "cell_type": "code",
      "source": [
        "import findspark\n",
        "findspark.init()"
      ],
      "metadata": {
        "id": "JWIL6mF6qTaj"
      },
      "execution_count": null,
      "outputs": []
    }
  ]
}